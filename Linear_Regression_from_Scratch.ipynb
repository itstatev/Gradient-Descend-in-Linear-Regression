{
 "cells": [
  {
   "cell_type": "code",
   "execution_count": 1,
   "id": "organized-season",
   "metadata": {},
   "outputs": [],
   "source": [
    "import numpy as np"
   ]
  },
  {
   "cell_type": "code",
   "execution_count": 5,
   "id": "diverse-being",
   "metadata": {},
   "outputs": [],
   "source": [
    "class LinearRegression:\n",
    "    def __init__(self, learning_rate = 0.01, iterations = 100):\n",
    "        self.learning_rate = learning_rate\n",
    "        self.iterations = iterations\n",
    "        self.w = 0\n",
    "        self.b = 0\n",
    "        \n",
    "    def fit (self, X, y):\n",
    "        samples_count, features_count = X.shape\n",
    "        \n",
    "        self.w = np.zeros(features_count)\n",
    "        \n",
    "        for i in range(iterations):\n",
    "            pred = np.dot(X, self.w) + self.b                   # Linear model\n",
    "            \n",
    "            dw = (1 / samples_count) * np.dot(X.T, (pred - y))  # Gradient Descend\n",
    "            db = (1 / samples_count) * np.sum(pred - y)\n",
    "            \n",
    "            self.w -= learning_rate * dw                        # Updating weights and bias\n",
    "            self.b -= learning_rate * db\n",
    "            \n",
    "    def predict(self, X):\n",
    "        pred = np.dot(X, self.w) + self.b\n",
    "        return pred"
   ]
  }
 ],
 "metadata": {
  "kernelspec": {
   "display_name": "Python 3",
   "language": "python",
   "name": "python3"
  },
  "language_info": {
   "codemirror_mode": {
    "name": "ipython",
    "version": 3
   },
   "file_extension": ".py",
   "mimetype": "text/x-python",
   "name": "python",
   "nbconvert_exporter": "python",
   "pygments_lexer": "ipython3",
   "version": "3.9.5"
  }
 },
 "nbformat": 4,
 "nbformat_minor": 5
}
